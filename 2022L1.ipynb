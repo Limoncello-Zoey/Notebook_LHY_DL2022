{
 "cells": [
  {
   "cell_type": "markdown",
   "id": "d43cc335",
   "metadata": {},
   "source": [
    "### 机器学习：让机器寻找一个函数\n",
    "深度学习：使用神经网络的机器学习\n"
   ]
  },
  {
   "cell_type": "markdown",
   "id": "2bbedd9b",
   "metadata": {},
   "source": [
    "### 这个函数可以是不同种类的\n",
    "输入可以是\n",
    "+ 向量\n",
    "+ 矩阵\n",
    "+ 序列\n",
    "\n",
    "输出可以是\n",
    "+ 数值 - 回归任务regression\n",
    "+ 类别 - 分类任务classification\n",
    "+ 文本、图片等"
   ]
  },
  {
   "cell_type": "markdown",
   "id": "f352b03f",
   "metadata": {},
   "source": [
    "### Define loss from training data  \n",
    "损失函数是一个关于参数的函数: $L(b,w)$\n"
   ]
  },
  {
   "cell_type": "code",
   "execution_count": null,
   "id": "811aa00a",
   "metadata": {},
   "outputs": [],
   "source": []
  },
  {
   "cell_type": "code",
   "execution_count": null,
   "id": "2b2bf8d8",
   "metadata": {},
   "outputs": [],
   "source": []
  },
  {
   "cell_type": "markdown",
   "id": "51680ac8",
   "metadata": {},
   "source": [
    "### 课程大纲"
   ]
  },
  {
   "cell_type": "markdown",
   "id": "ad48cd15",
   "metadata": {},
   "source": [
    "+ 前五讲 Supervised Learning\n",
    "+ 第六讲 Generative Adversarial Network\n",
    "Unlabeled -> Pretrain -> New Task\n",
    "1. 未标注的数据，通过反转、更换颜色等方式让AI进行预训练，得到general knowledge\n",
    "2. 之后经过微调就能直接处理下游任务\n",
    "+ 第七讲 Self-supervised Learning\n",
    "+ 第八讲 Anomaly Detection 异常检测 \"IDK\"\n",
    "+ 第九讲 Explainable AI\n",
    "+ 第十讲 Model Attack\n",
    "+ 第十一讲 Domain Adaptation\n",
    "+ 第十二讲 Reinforcement Learning\n",
    "+ 第十三讲 Network Compression\n",
    "+ 第十四讲 Life-long Learning\n",
    "+ 第十五讲 Meta Learning 学习如何学习 （few-shot learning）\n"
   ]
  }
 ],
 "metadata": {
  "kernelspec": {
   "display_name": "base",
   "language": "python",
   "name": "python3"
  },
  "language_info": {
   "codemirror_mode": {
    "name": "ipython",
    "version": 3
   },
   "file_extension": ".py",
   "mimetype": "text/x-python",
   "name": "python",
   "nbconvert_exporter": "python",
   "pygments_lexer": "ipython3",
   "version": "3.13.5"
  }
 },
 "nbformat": 4,
 "nbformat_minor": 5
}
